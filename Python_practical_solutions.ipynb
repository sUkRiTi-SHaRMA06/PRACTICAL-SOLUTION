{
  "nbformat": 4,
  "nbformat_minor": 0,
  "metadata": {
    "colab": {
      "name": "Python practical solutions",
      "provenance": [],
      "collapsed_sections": [],
      "authorship_tag": "ABX9TyPlo8kvibuZ5+weds99giIZ"
    },
    "kernelspec": {
      "name": "python3",
      "display_name": "Python 3"
    },
    "language_info": {
      "name": "python"
    }
  },
  "cells": [
    {
      "cell_type": "code",
      "source": [
        "#1\n",
        "def oddsum(n):\n",
        "    odd=0\n",
        "    print('Odd terms')\n",
        "    for i in range (1,2*n+1,2):\n",
        "        print(i,end='\\t')\n",
        "        odd+=i\n",
        "    print('\\nSum of odd terms=',odd)\n",
        "    \n",
        "def evensum(n):\n",
        "    even=0\n",
        "    print('Even terms')\n",
        "    for i in range (2,2*n+1,2):\n",
        "        print(i,end='\\t')\n",
        "        even+=i\n",
        "    print('\\nSum of even terms=',even)\n",
        "    \n",
        "n=int(input('number of terms:'))\n",
        "oddsum(n)\n",
        "\n",
        "evensum(n)\n",
        "#c\n",
        "\n",
        "s=0\n",
        "n=int(input(\"enter limit: \"))\n",
        "for i in range(1,n+1):\n",
        "    s+=i\n",
        "print(\"the sum is \",s)"
      ],
      "metadata": {
        "colab": {
          "base_uri": "https://localhost:8080/"
        },
        "id": "IBjngLH3m-iK",
        "outputId": "9e92c1c0-f2ae-49bb-d7c6-113b97381097"
      },
      "execution_count": null,
      "outputs": [
        {
          "output_type": "stream",
          "name": "stdout",
          "text": [
            "number of terms:6\n",
            "Odd terms\n",
            "1\t3\t5\t7\t9\t11\t\n",
            "Sum of odd terms= 36\n",
            "Even terms\n",
            "2\t4\t6\t8\t10\t12\t\n",
            "Sum of even terms= 42\n",
            "enter limit: 6\n",
            "the sum is  21\n"
          ]
        }
      ]
    },
    {
      "cell_type": "code",
      "source": [
        "\n",
        "#2\n",
        "t1=(1,2,5,7,9,2,4,6,8,10)\n",
        "l=len(t1)\n",
        "half=l//2\n",
        "print('First half',t1[:half+1])\n",
        "print('Second half',t1[half:l+1])\n",
        "print('Another tuple having even numbers from the given tuple')\n",
        "t2=()\n",
        "for i in t1:\n",
        "    if i%2==0:\n",
        "        t2+=(i,)\n",
        "print('Tuple containg even numbers:',t2)\n",
        "\n",
        "t1+=(11,13,15)\n",
        "print('concatenated tuple',t1)\n",
        "print('maximum value',max(t1))\n",
        "print('minimum value',min(t1))"
      ],
      "metadata": {
        "colab": {
          "base_uri": "https://localhost:8080/"
        },
        "id": "YOVU17cgsz3G",
        "outputId": "e8d0ac64-71af-43ad-a650-406023da5920"
      },
      "execution_count": null,
      "outputs": [
        {
          "output_type": "stream",
          "name": "stdout",
          "text": [
            "First half (1, 2, 5, 7, 9, 2)\n",
            "Second half (2, 4, 6, 8, 10)\n",
            "Another tuple having even numbers from the given tuple\n",
            "Tuple containg even numbers: (2, 2, 4, 6, 8, 10)\n",
            "concatenated tuple (1, 2, 5, 7, 9, 2, 4, 6, 8, 10, 11, 13, 15)\n",
            "maximum value 15\n",
            "minimum value 1\n"
          ]
        }
      ]
    },
    {
      "cell_type": "code",
      "source": [
        "#3\n",
        "def string():\n",
        "    choice =int(input('''Enter your choice \n",
        "1 = length of the string\n",
        "2 = maximum of three strrings\n",
        "3 = Replace every successive character with #\n",
        "4 = number of words in the string\n",
        "'''))\n",
        "\n",
        "    if choice == 1:\n",
        "        n = input(\"Enter a string : \")\n",
        "        l=len(n)\n",
        "        print(\"The length of the string is =\",l)      \n",
        "    elif choice == 2:\n",
        "        n1 = input(\"Enter 1st string : \")\n",
        "        n2 = input(\"Enter 2nd string : \")\n",
        "        n3 = input(\"Enter 3rd string : \")\n",
        "        print(\"The maximum of the three strings is =\",max(n1,n2,n3))    \n",
        "    elif choice == 3:\n",
        "        n = input(\"Enter a string : \")\n",
        "        s = \"\"\n",
        "        m = list(n)\n",
        "        for i in range(len(n)):\n",
        "            if (i%2 != 0):\n",
        "                if m[i] == \" \":\n",
        "                    m[i] = \" \"\n",
        "                else:\n",
        "                    m[i] = \"#\"\n",
        "        for x in m:\n",
        "            s=s+x\n",
        "        print(\"The sucessive character in the string is replaced with # :\",s) \n",
        "    elif choice == 4:\n",
        "            n = input(\"Enter a string : \")\n",
        "            c = 0\n",
        "            for y in n :\n",
        "                if y == \" \" :\n",
        "                    c += 1\n",
        "            w = c+1\n",
        "            print(\"The number of words = \",w) \n",
        "    else :\n",
        "        print(\"Please Choose from the given option only\")\n",
        "\n",
        "string()"
      ],
      "metadata": {
        "colab": {
          "base_uri": "https://localhost:8080/"
        },
        "id": "NIF78cdquabt",
        "outputId": "df2e1584-ea20-4e5f-b61a-8dae52462d07"
      },
      "execution_count": null,
      "outputs": [
        {
          "output_type": "stream",
          "name": "stdout",
          "text": [
            "Enter your choice \n",
            "1 = length of the string\n",
            "2 = maximum of three strrings\n",
            "3 = Replace every successive character with #\n",
            "4 = number of words in the string\n",
            "3\n",
            "Enter a string : Sukriti\n",
            "The sucessive character in the string is replaced with # : S#k#i#i\n"
          ]
        }
      ]
    }
  ]
}